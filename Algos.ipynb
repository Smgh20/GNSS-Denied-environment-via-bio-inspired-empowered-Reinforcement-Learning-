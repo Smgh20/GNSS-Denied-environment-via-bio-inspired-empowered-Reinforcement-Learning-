{
 "cells": [
  {
   "cell_type": "code",
   "execution_count": 5,
   "metadata": {},
   "outputs": [
    {
     "name": "stdout",
     "output_type": "stream",
     "text": [
      "Merged Pheromone Vector: [[1, 1, 0.3], [2, 2, 0.8], [3, 3, 0.2], [4, 4, 0.4], [5, 5, 0.7]]\n"
     ]
    }
   ],
   "source": [
    "\n",
    "\n",
    "def MERGEPHER(P, M):\n",
    "    for i in range(len(M)):\n",
    "        match = -1\n",
    "        for j in range(len(P)):\n",
    "            if M[i][0] == P[j][0] and M[i][1] == P[j][1]:\n",
    "                if P[j][2] > M[i][2]:\n",
    "                    P[j][2] = M[i][2]\n",
    "                match = 1\n",
    "                break\n",
    "        if match == -1:\n",
    "            P.append(M[i])\n",
    "    return P\n",
    "\n",
    "P = [[1, 1, 0.5], [2, 2, 0.8], [3, 3, 0.2]]\n",
    "M = [[1, 1, 0.3], [4, 4, 0.4], [5, 5, 0.7]]\n",
    "\n",
    "result = MERGEPHER(P, M)\n",
    "\n",
    "\n",
    "print(\"Merged Pheromone Vector:\", result)\n"
   ]
  },
  {
   "cell_type": "code",
   "execution_count": 8,
   "metadata": {},
   "outputs": [
    {
     "name": "stdout",
     "output_type": "stream",
     "text": [
      "Agent position: (0.05799557841021311, 0.06613391169712224), Velocity: (0.05799557841021311, 0.06613391169712224)\n"
     ]
    }
   ],
   "source": [
    "import math\n",
    "import random\n",
    "\n",
    "class Agent:\n",
    "    def __init__(self, mass=1):\n",
    "        self.x = 0\n",
    "        self.y = 0\n",
    "        self.mass = mass\n",
    "\n",
    "    def getX(self):\n",
    "        return self.x\n",
    "\n",
    "    def getY(self):\n",
    "        return self.y\n",
    "\n",
    "    def Publish(self, vx, vy):\n",
    "        self.x += vx\n",
    "        self.y += vy\n",
    "        print(f\"Agent position: ({self.x}, {self.y}), Velocity: ({vx}, {vy})\")\n",
    "\n",
    "k = 8.9875e9 \n",
    "q = 1.602e-19  \n",
    "\n",
    "def getRandom():\n",
    "    return random.uniform(-0.1, 0.1)\n",
    "\n",
    "def PHERPHYS(P, quad):\n",
    "    my_x = quad.getX()\n",
    "    my_y = quad.getY()\n",
    "    dt = 0.001\n",
    "    F_t_x = 0\n",
    "    F_t_y = 0\n",
    "\n",
    "    for pher in P:\n",
    "        pher_x, pher_y, pher_weight = pher[0], pher[1], pher[2]\n",
    "        dx = my_x - pher_x\n",
    "        dy = my_y - pher_y\n",
    "        distance = math.sqrt(dx**2 + dy**2)\n",
    "\n",
    "        if distance < 4:\n",
    "            dP_mag = distance ** 3\n",
    "            fx = (k * q * pher_weight / dP_mag) * dx\n",
    "            fy = (k * q * pher_weight / dP_mag) * dy\n",
    "            F_t_x += fx\n",
    "            F_t_y += fy\n",
    "\n",
    "    ax = F_t_x / quad.mass\n",
    "    ay = F_t_y / quad.mass\n",
    "\n",
    "    vx = ax * dt + getRandom()\n",
    "    vy = ay * dt + getRandom()\n",
    "\n",
    "    quad.Publish(vx, vy)\n",
    "\n",
    "\n",
    "agent = Agent()\n",
    "\n",
    "pheromones = [\n",
    "    [2, 2, 0.6],\n",
    "    [-1, -1, 0.8],\n",
    "    [5, 5, 1.0]\n",
    "]\n",
    "\n",
    "PHERPHYS(pheromones, agent)\n"
   ]
  }
 ],
 "metadata": {
  "kernelspec": {
   "display_name": "myenv",
   "language": "python",
   "name": "python3"
  },
  "language_info": {
   "codemirror_mode": {
    "name": "ipython",
    "version": 3
   },
   "file_extension": ".py",
   "mimetype": "text/x-python",
   "name": "python",
   "nbconvert_exporter": "python",
   "pygments_lexer": "ipython3",
   "version": "3.8.17"
  }
 },
 "nbformat": 4,
 "nbformat_minor": 2
}
